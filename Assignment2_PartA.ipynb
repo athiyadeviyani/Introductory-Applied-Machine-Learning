{
 "cells": [
  {
   "cell_type": "code",
   "execution_count": 24,
   "metadata": {},
   "outputs": [],
   "source": [
    "import pandas as pd\n",
    "import numpy as np\n",
    "from sklearn.cluster import KMeans\n",
    "from sklearn.metrics import adjusted_mutual_info_score\n",
    "import seaborn as sns\n",
    "from sklearn.metrics import f1_score\n",
    "from sklearn.linear_model import LogisticRegression\n",
    "from sklearn.model_selection import StratifiedKFold"
   ]
  },
  {
   "cell_type": "markdown",
   "metadata": {},
   "source": [
    "_Importing the datasets both training and test_"
   ]
  },
  {
   "cell_type": "code",
   "execution_count": 3,
   "metadata": {},
   "outputs": [],
   "source": [
    "df_train = pd.read_csv('./Data/PartA/20ng_train.csv',compression = 'bz2')\n",
    "df_test = pd.read_csv('./Data/PartA/20ng_test.csv',compression = 'bz2')\n",
    "df_labels = pd.read_csv('./Data/PartA/20ng_labels.csv',compression = 'bz2')"
   ]
  },
  {
   "cell_type": "code",
   "execution_count": 48,
   "metadata": {},
   "outputs": [
    {
     "data": {
      "text/html": [
       "<div>\n",
       "<style scoped>\n",
       "    .dataframe tbody tr th:only-of-type {\n",
       "        vertical-align: middle;\n",
       "    }\n",
       "\n",
       "    .dataframe tbody tr th {\n",
       "        vertical-align: top;\n",
       "    }\n",
       "\n",
       "    .dataframe thead th {\n",
       "        text-align: right;\n",
       "    }\n",
       "</style>\n",
       "<table border=\"1\" class=\"dataframe\">\n",
       "  <thead>\n",
       "    <tr style=\"text-align: right;\">\n",
       "      <th></th>\n",
       "      <th>0</th>\n",
       "    </tr>\n",
       "  </thead>\n",
       "  <tbody>\n",
       "    <tr>\n",
       "      <th>0</th>\n",
       "      <td>comp.sys.ibm.pc.hardware</td>\n",
       "    </tr>\n",
       "    <tr>\n",
       "      <th>1</th>\n",
       "      <td>comp.sys.mac.hardware</td>\n",
       "    </tr>\n",
       "    <tr>\n",
       "      <th>2</th>\n",
       "      <td>rec.autos</td>\n",
       "    </tr>\n",
       "    <tr>\n",
       "      <th>3</th>\n",
       "      <td>rec.motorcycles</td>\n",
       "    </tr>\n",
       "    <tr>\n",
       "      <th>4</th>\n",
       "      <td>sci.crypt</td>\n",
       "    </tr>\n",
       "    <tr>\n",
       "      <th>5</th>\n",
       "      <td>sci.electronics</td>\n",
       "    </tr>\n",
       "    <tr>\n",
       "      <th>6</th>\n",
       "      <td>soc.religion.christian</td>\n",
       "    </tr>\n",
       "    <tr>\n",
       "      <th>7</th>\n",
       "      <td>talk.religion.misc</td>\n",
       "    </tr>\n",
       "  </tbody>\n",
       "</table>\n",
       "</div>"
      ],
      "text/plain": [
       "                          0\n",
       "0  comp.sys.ibm.pc.hardware\n",
       "1     comp.sys.mac.hardware\n",
       "2                 rec.autos\n",
       "3           rec.motorcycles\n",
       "4                 sci.crypt\n",
       "5           sci.electronics\n",
       "6    soc.religion.christian\n",
       "7        talk.religion.misc"
      ]
     },
     "execution_count": 48,
     "metadata": {},
     "output_type": "execute_result"
    }
   ],
   "source": [
    "df_labels"
   ]
  },
  {
   "cell_type": "markdown",
   "metadata": {},
   "source": [
    "__Question 1.1__ : Focusing first on the training set, summarise the key features/observations\n",
    "in the data: focus on the dimensionality, data ranges, feature and class distribution and\n",
    "report anything out of the ordinary. What are the typical values of the features like?"
   ]
  },
  {
   "cell_type": "markdown",
   "metadata": {},
   "source": [
    "_This is the dataframe for overall information about the training set data. The training set consists of 5648 different documents with total of 1001 unique words and has 8 different class labels._"
   ]
  },
  {
   "cell_type": "code",
   "execution_count": 49,
   "metadata": {},
   "outputs": [
    {
     "data": {
      "text/plain": [
       "(5648, 1001)"
      ]
     },
     "execution_count": 49,
     "metadata": {},
     "output_type": "execute_result"
    }
   ],
   "source": [
    "df_train.shape"
   ]
  },
  {
   "cell_type": "code",
   "execution_count": null,
   "metadata": {
    "scrolled": false
   },
   "outputs": [],
   "source": [
    "df_train_described = df_train.describe()\n",
    "df_train_described"
   ]
  },
  {
   "cell_type": "markdown",
   "metadata": {},
   "source": [
    "__Class 7, talk.religion.misc, has less data provided than all other classes.__"
   ]
  },
  {
   "cell_type": "code",
   "execution_count": null,
   "metadata": {},
   "outputs": [],
   "source": [
    "df_train_class_counts = df_train[\"class\"].value_counts()\n",
    "df_train_class_counts"
   ]
  },
  {
   "cell_type": "markdown",
   "metadata": {},
   "source": [
    "_The typical values (mean) of the features like for each class label is calculated below._"
   ]
  },
  {
   "cell_type": "code",
   "execution_count": null,
   "metadata": {},
   "outputs": [],
   "source": [
    "list_of_tfidf_classes = [[0] * 1000]*8\n",
    "for index, row in df_train.iterrows():\n",
    "    list_of_tfidf_classes[int(row['class'])] = list_of_tfidf_classes[int(row['class'])] + row[:-1]\n",
    "for x in range(0,8):\n",
    "    list_of_tfidf_classes[x] = list_of_tfidf_classes[x]/df_train_class_counts[x]"
   ]
  },
  {
   "cell_type": "code",
   "execution_count": null,
   "metadata": {},
   "outputs": [],
   "source": [
    "list_of_tfidf_classes"
   ]
  },
  {
   "cell_type": "markdown",
   "metadata": {},
   "source": [
    "_The words mostly have the same tf-idf value; this can be understood by taking the standard deviation of the means of each unique word, which is low._"
   ]
  },
  {
   "cell_type": "code",
   "execution_count": null,
   "metadata": {},
   "outputs": [],
   "source": [
    "df_train_described.iloc[1,:].std()"
   ]
  },
  {
   "cell_type": "markdown",
   "metadata": {},
   "source": [
    "__Question 1.2__ : Looking now at the Testing set, how does it compare with the Training\n",
    "Set (in terms of sizes and feature-distributions) and what could be the repurcussions of\n",
    "this?"
   ]
  },
  {
   "cell_type": "markdown",
   "metadata": {},
   "source": [
    "__There is a split of 75% training set to 25% test set__"
   ]
  },
  {
   "cell_type": "code",
   "execution_count": 63,
   "metadata": {},
   "outputs": [
    {
     "data": {
      "text/html": [
       "<div>\n",
       "<style scoped>\n",
       "    .dataframe tbody tr th:only-of-type {\n",
       "        vertical-align: middle;\n",
       "    }\n",
       "\n",
       "    .dataframe tbody tr th {\n",
       "        vertical-align: top;\n",
       "    }\n",
       "\n",
       "    .dataframe thead th {\n",
       "        text-align: right;\n",
       "    }\n",
       "</style>\n",
       "<table border=\"1\" class=\"dataframe\">\n",
       "  <thead>\n",
       "    <tr style=\"text-align: right;\">\n",
       "      <th></th>\n",
       "      <th>__</th>\n",
       "      <th>ability</th>\n",
       "      <th>able</th>\n",
       "      <th>ac</th>\n",
       "      <th>accept</th>\n",
       "      <th>access</th>\n",
       "      <th>according</th>\n",
       "      <th>account</th>\n",
       "      <th>act</th>\n",
       "      <th>action</th>\n",
       "      <th>...</th>\n",
       "      <th>worth</th>\n",
       "      <th>wouldn</th>\n",
       "      <th>write</th>\n",
       "      <th>written</th>\n",
       "      <th>wrong</th>\n",
       "      <th>wrote</th>\n",
       "      <th>year</th>\n",
       "      <th>years</th>\n",
       "      <th>yes</th>\n",
       "      <th>class</th>\n",
       "    </tr>\n",
       "  </thead>\n",
       "  <tbody>\n",
       "    <tr>\n",
       "      <th>count</th>\n",
       "      <td>1883.000000</td>\n",
       "      <td>1883.000000</td>\n",
       "      <td>1883.000000</td>\n",
       "      <td>1883.000000</td>\n",
       "      <td>1883.000000</td>\n",
       "      <td>1883.000000</td>\n",
       "      <td>1883.000000</td>\n",
       "      <td>1883.000000</td>\n",
       "      <td>1883.000000</td>\n",
       "      <td>1883.000000</td>\n",
       "      <td>...</td>\n",
       "      <td>1883.000000</td>\n",
       "      <td>1883.000000</td>\n",
       "      <td>1883.000000</td>\n",
       "      <td>1883.000000</td>\n",
       "      <td>1883.000000</td>\n",
       "      <td>1883.000000</td>\n",
       "      <td>1883.000000</td>\n",
       "      <td>1883.000000</td>\n",
       "      <td>1883.000000</td>\n",
       "      <td>1883.000000</td>\n",
       "    </tr>\n",
       "    <tr>\n",
       "      <th>mean</th>\n",
       "      <td>0.002292</td>\n",
       "      <td>0.002168</td>\n",
       "      <td>0.007335</td>\n",
       "      <td>0.002817</td>\n",
       "      <td>0.002701</td>\n",
       "      <td>0.004449</td>\n",
       "      <td>0.003012</td>\n",
       "      <td>0.001716</td>\n",
       "      <td>0.001886</td>\n",
       "      <td>0.001745</td>\n",
       "      <td>...</td>\n",
       "      <td>0.003018</td>\n",
       "      <td>0.005356</td>\n",
       "      <td>0.003746</td>\n",
       "      <td>0.003812</td>\n",
       "      <td>0.007960</td>\n",
       "      <td>0.001970</td>\n",
       "      <td>0.006214</td>\n",
       "      <td>0.008706</td>\n",
       "      <td>0.009449</td>\n",
       "      <td>3.345194</td>\n",
       "    </tr>\n",
       "    <tr>\n",
       "      <th>std</th>\n",
       "      <td>0.032391</td>\n",
       "      <td>0.021397</td>\n",
       "      <td>0.034312</td>\n",
       "      <td>0.032169</td>\n",
       "      <td>0.021777</td>\n",
       "      <td>0.032393</td>\n",
       "      <td>0.026133</td>\n",
       "      <td>0.022855</td>\n",
       "      <td>0.019504</td>\n",
       "      <td>0.018376</td>\n",
       "      <td>...</td>\n",
       "      <td>0.026231</td>\n",
       "      <td>0.033441</td>\n",
       "      <td>0.028779</td>\n",
       "      <td>0.032836</td>\n",
       "      <td>0.039182</td>\n",
       "      <td>0.020613</td>\n",
       "      <td>0.037389</td>\n",
       "      <td>0.041551</td>\n",
       "      <td>0.043570</td>\n",
       "      <td>2.208286</td>\n",
       "    </tr>\n",
       "    <tr>\n",
       "      <th>min</th>\n",
       "      <td>0.000000</td>\n",
       "      <td>0.000000</td>\n",
       "      <td>0.000000</td>\n",
       "      <td>0.000000</td>\n",
       "      <td>0.000000</td>\n",
       "      <td>0.000000</td>\n",
       "      <td>0.000000</td>\n",
       "      <td>0.000000</td>\n",
       "      <td>0.000000</td>\n",
       "      <td>0.000000</td>\n",
       "      <td>...</td>\n",
       "      <td>0.000000</td>\n",
       "      <td>0.000000</td>\n",
       "      <td>0.000000</td>\n",
       "      <td>0.000000</td>\n",
       "      <td>0.000000</td>\n",
       "      <td>0.000000</td>\n",
       "      <td>0.000000</td>\n",
       "      <td>0.000000</td>\n",
       "      <td>0.000000</td>\n",
       "      <td>0.000000</td>\n",
       "    </tr>\n",
       "    <tr>\n",
       "      <th>25%</th>\n",
       "      <td>0.000000</td>\n",
       "      <td>0.000000</td>\n",
       "      <td>0.000000</td>\n",
       "      <td>0.000000</td>\n",
       "      <td>0.000000</td>\n",
       "      <td>0.000000</td>\n",
       "      <td>0.000000</td>\n",
       "      <td>0.000000</td>\n",
       "      <td>0.000000</td>\n",
       "      <td>0.000000</td>\n",
       "      <td>...</td>\n",
       "      <td>0.000000</td>\n",
       "      <td>0.000000</td>\n",
       "      <td>0.000000</td>\n",
       "      <td>0.000000</td>\n",
       "      <td>0.000000</td>\n",
       "      <td>0.000000</td>\n",
       "      <td>0.000000</td>\n",
       "      <td>0.000000</td>\n",
       "      <td>0.000000</td>\n",
       "      <td>1.000000</td>\n",
       "    </tr>\n",
       "    <tr>\n",
       "      <th>50%</th>\n",
       "      <td>0.000000</td>\n",
       "      <td>0.000000</td>\n",
       "      <td>0.000000</td>\n",
       "      <td>0.000000</td>\n",
       "      <td>0.000000</td>\n",
       "      <td>0.000000</td>\n",
       "      <td>0.000000</td>\n",
       "      <td>0.000000</td>\n",
       "      <td>0.000000</td>\n",
       "      <td>0.000000</td>\n",
       "      <td>...</td>\n",
       "      <td>0.000000</td>\n",
       "      <td>0.000000</td>\n",
       "      <td>0.000000</td>\n",
       "      <td>0.000000</td>\n",
       "      <td>0.000000</td>\n",
       "      <td>0.000000</td>\n",
       "      <td>0.000000</td>\n",
       "      <td>0.000000</td>\n",
       "      <td>0.000000</td>\n",
       "      <td>3.000000</td>\n",
       "    </tr>\n",
       "    <tr>\n",
       "      <th>75%</th>\n",
       "      <td>0.000000</td>\n",
       "      <td>0.000000</td>\n",
       "      <td>0.000000</td>\n",
       "      <td>0.000000</td>\n",
       "      <td>0.000000</td>\n",
       "      <td>0.000000</td>\n",
       "      <td>0.000000</td>\n",
       "      <td>0.000000</td>\n",
       "      <td>0.000000</td>\n",
       "      <td>0.000000</td>\n",
       "      <td>...</td>\n",
       "      <td>0.000000</td>\n",
       "      <td>0.000000</td>\n",
       "      <td>0.000000</td>\n",
       "      <td>0.000000</td>\n",
       "      <td>0.000000</td>\n",
       "      <td>0.000000</td>\n",
       "      <td>0.000000</td>\n",
       "      <td>0.000000</td>\n",
       "      <td>0.000000</td>\n",
       "      <td>5.000000</td>\n",
       "    </tr>\n",
       "    <tr>\n",
       "      <th>max</th>\n",
       "      <td>0.864159</td>\n",
       "      <td>0.469412</td>\n",
       "      <td>0.337561</td>\n",
       "      <td>0.620254</td>\n",
       "      <td>0.310053</td>\n",
       "      <td>0.504324</td>\n",
       "      <td>0.420903</td>\n",
       "      <td>0.632166</td>\n",
       "      <td>0.336667</td>\n",
       "      <td>0.387412</td>\n",
       "      <td>...</td>\n",
       "      <td>0.490894</td>\n",
       "      <td>0.481298</td>\n",
       "      <td>0.434553</td>\n",
       "      <td>0.543384</td>\n",
       "      <td>0.470697</td>\n",
       "      <td>0.566179</td>\n",
       "      <td>0.537827</td>\n",
       "      <td>0.532047</td>\n",
       "      <td>0.590114</td>\n",
       "      <td>7.000000</td>\n",
       "    </tr>\n",
       "  </tbody>\n",
       "</table>\n",
       "<p>8 rows × 1001 columns</p>\n",
       "</div>"
      ],
      "text/plain": [
       "                __      ability         able           ac       accept  \\\n",
       "count  1883.000000  1883.000000  1883.000000  1883.000000  1883.000000   \n",
       "mean      0.002292     0.002168     0.007335     0.002817     0.002701   \n",
       "std       0.032391     0.021397     0.034312     0.032169     0.021777   \n",
       "min       0.000000     0.000000     0.000000     0.000000     0.000000   \n",
       "25%       0.000000     0.000000     0.000000     0.000000     0.000000   \n",
       "50%       0.000000     0.000000     0.000000     0.000000     0.000000   \n",
       "75%       0.000000     0.000000     0.000000     0.000000     0.000000   \n",
       "max       0.864159     0.469412     0.337561     0.620254     0.310053   \n",
       "\n",
       "            access    according      account          act       action  ...  \\\n",
       "count  1883.000000  1883.000000  1883.000000  1883.000000  1883.000000  ...   \n",
       "mean      0.004449     0.003012     0.001716     0.001886     0.001745  ...   \n",
       "std       0.032393     0.026133     0.022855     0.019504     0.018376  ...   \n",
       "min       0.000000     0.000000     0.000000     0.000000     0.000000  ...   \n",
       "25%       0.000000     0.000000     0.000000     0.000000     0.000000  ...   \n",
       "50%       0.000000     0.000000     0.000000     0.000000     0.000000  ...   \n",
       "75%       0.000000     0.000000     0.000000     0.000000     0.000000  ...   \n",
       "max       0.504324     0.420903     0.632166     0.336667     0.387412  ...   \n",
       "\n",
       "             worth       wouldn        write      written        wrong  \\\n",
       "count  1883.000000  1883.000000  1883.000000  1883.000000  1883.000000   \n",
       "mean      0.003018     0.005356     0.003746     0.003812     0.007960   \n",
       "std       0.026231     0.033441     0.028779     0.032836     0.039182   \n",
       "min       0.000000     0.000000     0.000000     0.000000     0.000000   \n",
       "25%       0.000000     0.000000     0.000000     0.000000     0.000000   \n",
       "50%       0.000000     0.000000     0.000000     0.000000     0.000000   \n",
       "75%       0.000000     0.000000     0.000000     0.000000     0.000000   \n",
       "max       0.490894     0.481298     0.434553     0.543384     0.470697   \n",
       "\n",
       "             wrote         year        years          yes        class  \n",
       "count  1883.000000  1883.000000  1883.000000  1883.000000  1883.000000  \n",
       "mean      0.001970     0.006214     0.008706     0.009449     3.345194  \n",
       "std       0.020613     0.037389     0.041551     0.043570     2.208286  \n",
       "min       0.000000     0.000000     0.000000     0.000000     0.000000  \n",
       "25%       0.000000     0.000000     0.000000     0.000000     1.000000  \n",
       "50%       0.000000     0.000000     0.000000     0.000000     3.000000  \n",
       "75%       0.000000     0.000000     0.000000     0.000000     5.000000  \n",
       "max       0.566179     0.537827     0.532047     0.590114     7.000000  \n",
       "\n",
       "[8 rows x 1001 columns]"
      ]
     },
     "execution_count": 63,
     "metadata": {},
     "output_type": "execute_result"
    }
   ],
   "source": [
    "df_test.describe()"
   ]
  },
  {
   "cell_type": "code",
   "execution_count": 62,
   "metadata": {},
   "outputs": [
    {
     "name": "stdout",
     "output_type": "stream",
     "text": [
      "Number of rows and columns respectively of training set: 5648, 1001\n",
      "Training set class distribution:\n",
      "6    748\n",
      "3    747\n",
      "4    743\n",
      "2    742\n",
      "5    738\n",
      "0    737\n",
      "1    722\n",
      "7    471\n",
      "Name: class, dtype: int64\n",
      "\n",
      "Number of rows and columns respectively of test set: 1883, 1001\n",
      "Test set class distribution:\n",
      "6    249\n",
      "3    249\n",
      "4    248\n",
      "2    248\n",
      "5    246\n",
      "0    245\n",
      "1    241\n",
      "7    157\n",
      "Name: class, dtype: int64\n"
     ]
    }
   ],
   "source": [
    "print('Number of rows and columns respectively of training set: ' \n",
    "      + str(df_train.shape[0]) + ', ' + str(df_train.shape[1]))\n",
    "\n",
    "print('Training set class distribution:')\n",
    "print(df_train[\"class\"].value_counts())\n",
    "print()\n",
    "\n",
    "print('Number of rows and columns respectively of test set: ' \n",
    "      + str(df_test.shape[0]) + ', ' + str(df_test.shape[1]))\n",
    "\n",
    "print('Test set class distribution:')\n",
    "print(df_test[\"class\"].value_counts())"
   ]
  },
  {
   "cell_type": "markdown",
   "metadata": {},
   "source": [
    "__Question 1.3__ : Why do you think it is useful to consider TF-IDF weights as opposed to\n",
    "just the frequency of times a word appears in a document as a feature?"
   ]
  },
  {
   "cell_type": "markdown",
   "metadata": {},
   "source": [
    "_TF-IDF will create weights according how important a word is in a document. For example if the word is used very frequently, like stop words , the idf value will be close to 0. Thus TF-IDF somehow eliminates/clears not 'important' words from the feature vectors. For example, considering the stop words might be inrelevant and computations can be costly._"
   ]
  },
  {
   "cell_type": "markdown",
   "metadata": {},
   "source": [
    "__Question 2.1 :__ The K-Means algorithm is non-deterministic. Explain why this is, and\n",
    "how the final model is selected in the SKLearn implementation of KMeans."
   ]
  },
  {
   "cell_type": "markdown",
   "metadata": {},
   "source": [
    "_The initial selection of the cluster centers might affect the result in the end. Even though the data points are the same, the algorithm causes the non-determinisim. The test point might be classified differently acording to the initial cluster centers. We will not explicitly select the cluster centres in the SKLearn model; the model itself will select the initial cluster centers which speeds up the convergence of the algorithm._"
   ]
  },
  {
   "cell_type": "markdown",
   "metadata": {},
   "source": [
    "__Question 2.2:__ One of the parameters we need to specify when using k-means is the number\n",
    "of clusters. What is a reasonable number for this problem and why?"
   ]
  },
  {
   "cell_type": "markdown",
   "metadata": {},
   "source": [
    "_By visualising the data, we will decide number of clusters we would like to use. The outliers in the data will be either removed or transformed. However it is impossible to come up with a graph for more than 3 dimensions. In this case we can use SSE(sum squared error) to decide which k value will be optimal. Example code can be seen below:_"
   ]
  },
  {
   "cell_type": "code",
   "execution_count": 65,
   "metadata": {},
   "outputs": [
    {
     "data": {
      "text/plain": [
       "[32840.52090499835,\n",
       " 12011.220991420803,\n",
       " 8263.254576986266,\n",
       " 6608.1852836296985,\n",
       " 6224.152404490892,\n",
       " 5841.347863264131,\n",
       " 5469.012993329456,\n",
       " 5175.799878800897,\n",
       " 5160.044981727505,\n",
       " 5145.941835367454,\n",
       " 5135.804262786552,\n",
       " 5120.659758560258,\n",
       " 5105.5044275561995,\n",
       " 5099.181663921659]"
      ]
     },
     "execution_count": 65,
     "metadata": {},
     "output_type": "execute_result"
    }
   ],
   "source": [
    "Sum_of_squared_distances = []\n",
    "K = range(1,15)\n",
    "for k in K:\n",
    "    km = KMeans(n_clusters=k)\n",
    "    km = km.fit(df_train)\n",
    "    Sum_of_squared_distances.append(km.inertia_)\n",
    "Sum_of_squared_distances"
   ]
  },
  {
   "cell_type": "markdown",
   "metadata": {},
   "source": [
    "__Question 2.3:__ We will use the Adjusted Mutual Information (AMI) i.e. adjusted_mutual\n",
    "_info_score between the clusters and the true (known) labels to quantify the performance of the clustering. Give an expression for the MI in terms of entropy. In short,\n",
    "describe what the MI measures about two variables, why this is applicable here and why\n",
    "it might be difficult to use in practice."
   ]
  },
  {
   "cell_type": "markdown",
   "metadata": {},
   "source": [
    "Assume two label assignments (of the same N objects), U and V. Their entropy is the amount of uncertainty for a partition set, defined by:\n",
    "\n",
    "\\begin{align}\n",
    "H(U) = - \\sum_{i=1}^{|U|}P(i)\\log(P(i))\n",
    "\\end{align}\n",
    "\n",
    "where P(i) is the probability that an object picked at random from U falls into class Ui and same for P'(j).\n",
    "\n",
    "\\begin{align}\n",
    "H(V) = - \\sum_{j=1}^{|V|}P'(j)\\log(P'(j))\n",
    "\\end{align}\n",
    "\n",
    "The Mutual Information is given in terms of entrophy can be seen below:\n",
    "\n",
    "\\begin{align}\n",
    "\\text{MI}(U, V) = \\sum_{i=1}^{|U|}\\sum_{j=1}^{|V|}P(i, j)\\log\\left(\\frac{P(i,j)}{P(i)P'(j)}\\right)\n",
    "\\end{align}\n",
    "\n",
    "where\n",
    "\\begin{align}\n",
    "P(i, j) = |U_i \\cap V_j| / N\n",
    "\\end{align}\n",
    "\n",
    "is the probability that an object picked at random falls into both classes Ui and Vj.\n",
    "\n",
    "Also there is another version without the probabilities:\n",
    "\\begin{align}\n",
    "\\text{MI}(U, V) = \\sum_{i=1}^{|U|} \\sum_{j=1}^{|V|} \\frac{|U_i \\cap V_j|}{N}\\log\\left(\\frac{N|U_i \\cap V_j|}{|U_i||V_j|}\\right)\n",
    "\\end{align}\n",
    "\n",
    "MI is a measure which tells us how much one variable tells us other variable (it is somehow related to the covariance). __\"Covariance is only able to takes into account linear relationships but the MI can also handle non-linear relationships.\"__ \"Mutual information calculates the statistical dependence between two variables and is the name given to information gain when applied to variable selection.\" (https://machinelearningmastery.com/information-gain-and-mutual-information/)\n",
    "\n",
    "It might be hard because there will be many variables, we would have to do \n",
    "\\begin{align}\n",
    "\\binom{N}{2}\n",
    "\\end{align}\n",
    "many computations, where N is the number of attributes."
   ]
  },
  {
   "cell_type": "markdown",
   "metadata": {},
   "source": [
    "__Question 2.4:__ Fit K-Means objects with n_clusters ranging from 2 to 12. Set the\n",
    "random seed to 1000 and the number of initialisations to 50, but leave all other values\n",
    "at default. For each fit compute the adjusted mutual information (there is an SKLearn\n",
    "function for that). Set average_method='max' . Plot the AMI scores against the number\n",
    "of clusters (as a line plot)."
   ]
  },
  {
   "cell_type": "code",
   "execution_count": 34,
   "metadata": {},
   "outputs": [],
   "source": [
    "AMI = []\n",
    "\n",
    "df_train_without_classes = df_train.drop('class', axis = 1)\n",
    "df_test_without_classes = df_test.drop('class', axis = 1)\n",
    "\n",
    "for k in range(2,13):\n",
    "    \n",
    "    km = KMeans(n_clusters=k, random_state=1000, n_init = 50)\n",
    "    km = km.fit(df_train_without_classes)\n",
    "    y_pred = km.predict(df_test_without_classes)\n",
    "\n",
    "    AMI.append(adjusted_mutual_info_score(df_test['class'], y_pred))"
   ]
  },
  {
   "cell_type": "code",
   "execution_count": 35,
   "metadata": {},
   "outputs": [
    {
     "data": {
      "text/plain": [
       "[0.09467890113466797,\n",
       " 0.1950356379915207,\n",
       " 0.24891808033912957,\n",
       " 0.2288771399046942,\n",
       " 0.2726797810438812,\n",
       " 0.2911458052678768,\n",
       " 0.32015410354365886,\n",
       " 0.24870198923466513,\n",
       " 0.31256372069963395,\n",
       " 0.2943868732717312,\n",
       " 0.29197266625025264]"
      ]
     },
     "execution_count": 35,
     "metadata": {},
     "output_type": "execute_result"
    }
   ],
   "source": [
    "AMI"
   ]
  },
  {
   "cell_type": "code",
   "execution_count": 36,
   "metadata": {},
   "outputs": [
    {
     "data": {
      "text/plain": [
       "<matplotlib.axes._subplots.AxesSubplot at 0x7f4cb1f78b00>"
      ]
     },
     "execution_count": 36,
     "metadata": {},
     "output_type": "execute_result"
    },
    {
     "data": {
      "image/png": "[encoded data removed]",
      "text/plain": [
       "<Figure size 432x288 with 1 Axes>"
      ]
     },
     "metadata": {
      "needs_background": "light"
     },
     "output_type": "display_data"
    }
   ],
   "source": [
    "ax = sns.lineplot(x=range(2,13), y=AMI)\n",
    "ax"
   ]
  },
  {
   "cell_type": "markdown",
   "metadata": {},
   "source": [
    "https://math.stackexchange.com/questions/438078/mutual-information-for-clustering"
   ]
  },
  {
   "cell_type": "markdown",
   "metadata": {},
   "source": [
    "__Question 2.5:__ Discuss any trends and interesting aspects which emerge from the plot.\n",
    "Does this follow from your expectations?"
   ]
  },
  {
   "cell_type": "markdown",
   "metadata": {},
   "source": [
    "__TODO: Enter the answer__"
   ]
  },
  {
   "cell_type": "markdown",
   "metadata": {},
   "source": [
    "__Question 2.6:__ Let us investigate the case with four (4) clusters in some more detail.\n",
    "Using seaborn's countplot function, plot a bar-chart of the number of data-points with a\n",
    "particular class (encoded by colour) assigned to each cluster centre (encoded by position\n",
    "on the plot's x-axis). As part of the cluster labels, include the total number of data-points\n",
    "assigned to that cluster."
   ]
  },
  {
   "cell_type": "code",
   "execution_count": 13,
   "metadata": {},
   "outputs": [
    {
     "name": "stdout",
     "output_type": "stream",
     "text": [
      "\n"
     ]
    },
    {
     "data": {
      "text/plain": [
       "<matplotlib.axes._subplots.AxesSubplot at 0x7f688bd6d0f0>"
      ]
     },
     "execution_count": 13,
     "metadata": {},
     "output_type": "execute_result"
    },
    {
     "data": {
      "image/png": "[encoded data removed]",
      "text/plain": [
       "<Figure size 432x288 with 1 Axes>"
      ]
     },
     "metadata": {
      "needs_background": "light"
     },
     "output_type": "display_data"
    }
   ],
   "source": [
    "df_train_without_classes = df_train.drop('class', axis = 1)\n",
    "\n",
    "km_histogram = KMeans(n_clusters=4, random_state=1000, n_init = 50)\n",
    "km_histogram = km_histogram.fit(df_train_without_classes)\n",
    "\n",
    "\n",
    "ax_new = sns.countplot(x=km_histogram.labels_, hue = \"class\", data=df_train)\n",
    "ax_new"
   ]
  },
  {
   "cell_type": "markdown",
   "metadata": {},
   "source": [
    "__Question 2.7:__ How does the clustering in Question2:(f) align with the true class labels?\n",
    "Does it conform to your observations in Q 2(e)?"
   ]
  },
  {
   "cell_type": "markdown",
   "metadata": {},
   "source": [
    "The class labels according to the same type of subjects, like computers, are clustered together."
   ]
  },
  {
   "cell_type": "markdown",
   "metadata": {},
   "source": [
    "__Question 3.1:__ What is the F1-score, and why is it preferable to accuracy in our problem?\n",
    "How does the macro-average work to extend the score to multi-class classi\u001c",
    "cation?"
   ]
  },
  {
   "cell_type": "markdown",
   "metadata": {},
   "source": [
    "_F1 score is a measurement which indicates whether the classified data is correct or not. It uses two measures which are recall and precission to find the F1 score. \"Micro- and macro-averages (for whatever metric) will compute slightly different things, and thus their interpretation differs. A macro-average will compute the metric independently for each class and then take the average (hence treating all classes equally), whereas a micro-average will aggregate the contributions of all classes to compute the average metric. In a multi-class classification setup, micro-average is preferable if you suspect there might be class imbalance (i.e you may have many more examples of one class than of other classes).\" (https://datascience.stackexchange.com/questions/15989/micro-average-vs-macro-average-performance-in-a-multiclass-classification-settin)_"
   ]
  },
  {
   "cell_type": "markdown",
   "metadata": {},
   "source": [
    "__Question 3.2:__ As always we start with a simple baseline classi\u001c",
    "er. De\u001c",
    "ne such a classi\u001c",
    "er\n",
    "(indicating why you chose it) and report its performance on the Test set. Use the `macro'\n",
    "average for the f1_score ."
   ]
  },
  {
   "cell_type": "code",
   "execution_count": 19,
   "metadata": {},
   "outputs": [
    {
     "name": "stderr",
     "output_type": "stream",
     "text": [
      "/usr/lib64/python3.6/site-packages/sklearn/metrics/classification.py:1135: UndefinedMetricWarning: F-score is ill-defined and being set to 0.0 in labels with no predicted samples.\n",
      "  'precision', 'predicted', average, warn_for)\n"
     ]
    },
    {
     "data": {
      "text/plain": [
       "0.02909432191459409"
      ]
     },
     "execution_count": 19,
     "metadata": {},
     "output_type": "execute_result"
    }
   ],
   "source": [
    "baseline_prediction = [2]*1883\n",
    "f1_score(df_test['class'], baseline_prediction, average='macro')"
   ]
  },
  {
   "cell_type": "markdown",
   "metadata": {},
   "source": [
    "__Question 3.3:__ We will now train a LogisticRegression Classi\u001c",
    "er from SKLearn. By\n",
    "referring to the documentation, explain how the Logistic Regression model can be applied\n",
    "to classify multi-class labels as in our case. Hint: Limit your explanation to methods we\n",
    "discussed in the lectures."
   ]
  },
  {
   "cell_type": "markdown",
   "metadata": {},
   "source": [
    "TODO: EXPLAIN!"
   ]
  },
  {
   "cell_type": "markdown",
   "metadata": {},
   "source": [
    "__Question 3.4:__ Train a Logistic Regressor on the training data. Set `solver=lbfgs`, \n",
    "`multi_class=multinomial` and random_state=0 . Use the Cross-Validation object you\n",
    "created and report the average validation-set F1-score as well as the standard deviation.\n",
    "Comment on the result."
   ]
  },
  {
   "cell_type": "code",
   "execution_count": 21,
   "metadata": {},
   "outputs": [],
   "source": [
    "lr = LogisticRegression(multi_class= 'multinomial', solver = 'lbfgs',\n",
    "                       random_state = 0)"
   ]
  },
  {
   "cell_type": "code",
   "execution_count": 22,
   "metadata": {},
   "outputs": [],
   "source": [
    "X_train_lr = df_train.drop('class', axis = 1).to_numpy()\n",
    "y_train_lr = df_train['class'].to_numpy()"
   ]
  },
  {
   "cell_type": "code",
   "execution_count": 30,
   "metadata": {},
   "outputs": [
    {
     "name": "stdout",
     "output_type": "stream",
     "text": [
      "0.6625495496128986\n",
      "Standard deviation: 2.134835443282763\n",
      "0.6804918899173111\n",
      "Standard deviation: 2.0545216449687045\n",
      "0.6815497804608959\n",
      "Standard deviation: 2.118289090776395\n",
      "0.6425966123149198\n",
      "Standard deviation: 2.1549761016285855\n",
      "0.685255241774714\n",
      "Standard deviation: 2.0979088895436004\n",
      "0.6942403363745525\n",
      "Standard deviation: 2.140068205865807\n",
      "0.6667317607628829\n",
      "Standard deviation: 2.1692819829158676\n",
      "0.6569984934920572\n",
      "Standard deviation: 2.141263620051749\n",
      "0.6582862150524074\n",
      "Standard deviation: 2.1473693936241536\n",
      "0.6510492803037036\n",
      "Standard deviation: 2.116099532381271\n"
     ]
    }
   ],
   "source": [
    "skf = StratifiedKFold(n_splits=10)\n",
    "for train_index, test_index in skf.split(X_train_lr, y_train_lr):\n",
    "    #print(\"TRAIN:\", train_index, \"TEST:\", test_index)\n",
    "    X_train, X_test = X_train_lr[train_index], X_train_lr[test_index]\n",
    "    y_train, y_test = y_train_lr[train_index], y_train_lr[test_index]\n",
    "    \n",
    "    lr.fit(X_train, y_train)\n",
    "    y_pred = lr.predict(X_test)\n",
    "    print(f1_score(y_test, y_pred, average='macro'))\n",
    "    print('Standard deviation: ' + str(y_pred.std()))   "
   ]
  },
  {
   "cell_type": "markdown",
   "metadata": {},
   "source": [
    "__TODO : COMMENT ON THE RESULTS__"
   ]
  },
  {
   "cell_type": "markdown",
   "metadata": {},
   "source": [
    "__Question 3.5:__ We will now optimise the Regularisation parameter C using cross-validation.\n",
    "Train a logistic regressor for di\u001berent values of C : in each case, evaluate the F1 score on\n",
    "the training and validation portion of the fold. That is, for each value of C you must\n",
    "provide the training set and validation-set scores per fold and then compute (and store)\n",
    "the average of both over all folds. Finally plot the (average) training and validation-set\n",
    "scores as a function of C . Hint: Use a logarithmic scale for C , spanning 19 samples\n",
    "between 10^−4 to 10^5 ."
   ]
  },
  {
   "cell_type": "code",
   "execution_count": 25,
   "metadata": {},
   "outputs": [],
   "source": [
    "log_list = np.logspace(start = -4, stop= 5, num = 19, base = 10)"
   ]
  },
  {
   "cell_type": "code",
   "execution_count": 52,
   "metadata": {},
   "outputs": [],
   "source": [
    "list_of_f1score_average = []\n",
    "\n",
    "for c in log_list:\n",
    "    \n",
    "    lr_with_C = LogisticRegression(multi_class= 'multinomial', \n",
    "                solver = 'lbfgs', random_state = 0, C = float(c))\n",
    "    sum = 0\n",
    "    \n",
    "    for train_index, test_index in skf.split(X_train_lr, y_train_lr):\n",
    "    \n",
    "        X_train, X_test = X_train_lr[train_index], X_train_lr[test_index]\n",
    "        y_train, y_test = y_train_lr[train_index], y_train_lr[test_index]\n",
    "              \n",
    "        lr_with_C.fit(X_train, y_train)\n",
    "        y_pred = lr_with_C.predict(X_test)\n",
    "        sum = sum + f1_score(y_test, y_pred, average='micro')\n",
    "        \n",
    "    list_of_f1score_average.append(sum/10)"
   ]
  },
  {
   "cell_type": "code",
   "execution_count": 53,
   "metadata": {},
   "outputs": [
    {
     "data": {
      "text/plain": [
       "[0.19319409126669226,\n",
       " 0.3087628112860118,\n",
       " 0.47978785498801846,\n",
       " 0.6127227939752368,\n",
       " 0.6492060466563897,\n",
       " 0.6568161761397191,\n",
       " 0.6669073387450754,\n",
       " 0.6851531188184111,\n",
       " 0.681095110717517,\n",
       " 0.6754297160335946,\n",
       " 0.6598512811909334,\n",
       " 0.6426910549961333,\n",
       " 0.6333065882805785,\n",
       " 0.6361550906326925,\n",
       " 0.63614912146366,\n",
       " 0.6345398466531653,\n",
       " 0.6334741026838027,\n",
       " 0.6345517698146561,\n",
       " 0.632952194716192]"
      ]
     },
     "execution_count": 53,
     "metadata": {},
     "output_type": "execute_result"
    }
   ],
   "source": [
    "list_of_f1score_average"
   ]
  },
  {
   "cell_type": "code",
   "execution_count": 57,
   "metadata": {},
   "outputs": [
    {
     "data": {
      "text/plain": [
       "array([1.00000000e-04, 3.16227766e-04, 1.00000000e-03, 3.16227766e-03,\n",
       "       1.00000000e-02, 3.16227766e-02, 1.00000000e-01, 3.16227766e-01,\n",
       "       1.00000000e+00, 3.16227766e+00, 1.00000000e+01, 3.16227766e+01,\n",
       "       1.00000000e+02, 3.16227766e+02, 1.00000000e+03, 3.16227766e+03,\n",
       "       1.00000000e+04, 3.16227766e+04, 1.00000000e+05])"
      ]
     },
     "execution_count": 57,
     "metadata": {},
     "output_type": "execute_result"
    }
   ],
   "source": [
    "log_list"
   ]
  },
  {
   "cell_type": "code",
   "execution_count": 56,
   "metadata": {},
   "outputs": [
    {
     "data": {
      "text/plain": [
       "<matplotlib.axes._subplots.AxesSubplot at 0x7f8a2e31b898>"
      ]
     },
     "execution_count": 56,
     "metadata": {},
     "output_type": "execute_result"
    },
    {
     "data": {
      "image/png": "[encoded data removed]",
      "text/plain": [
       "<Figure size 842.4x595.44 with 1 Axes>"
      ]
     },
     "metadata": {},
     "output_type": "display_data"
    }
   ],
   "source": [
    "ax = sns.lineplot(x=log_list, y=list_of_f1score_average)\n",
    "ax"
   ]
  },
  {
   "cell_type": "markdown",
   "metadata": {},
   "source": [
    "__Question 3.6:__ What is the optimal value of C (and the corresponding score)? How did\n",
    "you choose this value? By making reference to the e\u001bect of the regularisation parameter\n",
    "C on the optimisation, explain what is happening in your plot from Question 3:(e) Hint:\n",
    "Refer to the documentation for C in the LogisticRegression page on SKLearn ."
   ]
  },
  {
   "cell_type": "markdown",
   "metadata": {},
   "source": [
    "_According to what I have calculated, as it can seen above, 3.16e-1 is the best hyper parameter C amongs other 18 choices._ __TODO:WRITE MORE__"
   ]
  },
  {
   "cell_type": "markdown",
   "metadata": {},
   "source": [
    "__Question 3.7__ Finally, report the score of the best model on the test-set, after retraining\n",
    "on the entire training set (that is drop the folds). Hint: You may need to set max_iter\n",
    "= 200 . Comment brie\u001d",
    "y on the result."
   ]
  },
  {
   "cell_type": "code",
   "execution_count": 61,
   "metadata": {},
   "outputs": [],
   "source": [
    "X_test_lr = df_test.drop('class', axis = 1)\n",
    "y_test_lr = df_test['class']"
   ]
  },
  {
   "cell_type": "code",
   "execution_count": 60,
   "metadata": {},
   "outputs": [],
   "source": [
    "lr_final = LogisticRegression(multi_class= 'multinomial', \n",
    "                solver = 'lbfgs', random_state = 0, \n",
    "                C = 3.16227766e-01, max_iter=200)"
   ]
  },
  {
   "cell_type": "code",
   "execution_count": 63,
   "metadata": {},
   "outputs": [
    {
     "name": "stdout",
     "output_type": "stream",
     "text": [
      "0.6649874691737969\n"
     ]
    }
   ],
   "source": [
    "lr_final.fit(X_train_lr, y_train_lr)\n",
    "y_predicted= lr_final.predict(X_test_lr)\n",
    "print(f1_score(y_test_lr, y_predicted, average='macro'))"
   ]
  },
  {
   "cell_type": "code",
   "execution_count": null,
   "metadata": {},
   "outputs": [],
   "source": []
  }
 ],
 "metadata": {
  "kernelspec": {
   "display_name": "Python 3",
   "language": "python",
   "name": "python3"
  },
  "language_info": {
   "codemirror_mode": {
    "name": "ipython",
    "version": 3
   },
   "file_extension": ".py",
   "mimetype": "text/x-python",
   "name": "python",
   "nbconvert_exporter": "python",
   "pygments_lexer": "ipython3",
   "version": "3.6.9"
  }
 },
 "nbformat": 4,
 "nbformat_minor": 2
}
